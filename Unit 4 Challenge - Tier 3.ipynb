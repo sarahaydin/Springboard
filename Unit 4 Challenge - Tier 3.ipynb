{
 "cells": [
  {
   "cell_type": "markdown",
   "metadata": {
    "colab_type": "text",
    "id": "Tia3MP1SJpgj"
   },
   "source": [
    "# Springboard Data Science Career Track Unit 4 Challenge - Tier 3 Complete\n",
    "\n",
    "## Objectives\n",
    "Hey! Great job getting through those challenging DataCamp courses. You're learning a lot in a short span of time. \n",
    "\n",
    "In this notebook, you're going to apply the skills you've been learning, bridging the gap between the controlled environment of DataCamp and the *slightly* messier work that data scientists do with actual datasets!\n",
    "\n",
    "Here’s the mystery we’re going to solve: ***which boroughs of London have seen the greatest increase in housing prices, on average, over the last two decades?***\n",
    "\n",
    "\n",
    "A borough is just a fancy word for district. You may be familiar with the five boroughs of New York… well, there are 32 boroughs within Greater London [(here's some info for the curious)](https://en.wikipedia.org/wiki/London_boroughs). Some of them are more desirable areas to live in, and the data will reflect that with a greater rise in housing prices.\n",
    "\n",
    "***This is the Tier 3 notebook, which means it's not filled in at all: we'll just give you the skeleton of a project, the brief and the data. It's up to you to play around with it and see what you can find out! Good luck! If you struggle, feel free to look at easier tiers for help; but try to dip in and out of them, as the more independent work you do, the better it is for your learning!***\n",
    "\n",
    "This challenge will make use of only what you learned in the following DataCamp courses: \n",
    "- Prework courses (Introduction to Python for Data Science, Intermediate Python for Data Science)\n",
    "- Data Types for Data Science\n",
    "- Python Data Science Toolbox (Part One) \n",
    "- pandas Foundations\n",
    "- Manipulating DataFrames with pandas\n",
    "- Merging DataFrames with pandas\n",
    "\n",
    "Of the tools, techniques and concepts in the above DataCamp courses, this challenge should require the application of the following: \n",
    "- **pandas**\n",
    "    - **data ingestion and inspection** (pandas Foundations, Module One) \n",
    "    - **exploratory data analysis** (pandas Foundations, Module Two)\n",
    "    - **tidying and cleaning** (Manipulating DataFrames with pandas, Module Three) \n",
    "    - **transforming DataFrames** (Manipulating DataFrames with pandas, Module One)\n",
    "    - **subsetting DataFrames with lists** (Manipulating DataFrames with pandas, Module One) \n",
    "    - **filtering DataFrames** (Manipulating DataFrames with pandas, Module One) \n",
    "    - **grouping data** (Manipulating DataFrames with pandas, Module Four) \n",
    "    - **melting data** (Manipulating DataFrames with pandas, Module Three) \n",
    "    - **advanced indexing** (Manipulating DataFrames with pandas, Module Four) \n",
    "- **matplotlib** (Intermediate Python for Data Science, Module One)\n",
    "- **fundamental data types** (Data Types for Data Science, Module One) \n",
    "- **dictionaries** (Intermediate Python for Data Science, Module Two)\n",
    "- **handling dates and times** (Data Types for Data Science, Module Four)\n",
    "- **function definition** (Python Data Science Toolbox - Part One, Module One)\n",
    "- **default arguments, variable length, and scope** (Python Data Science Toolbox - Part One, Module Two) \n",
    "- **lambda functions and error handling** (Python Data Science Toolbox - Part One, Module Four) "
   ]
  },
  {
   "cell_type": "markdown",
   "metadata": {
    "colab_type": "text",
    "id": "Ipgd2nV8Jpgl"
   },
   "source": [
    "## The Data Science Pipeline\n",
    "\n",
    "This is Tier Three, so we'll get you started. But after that, it's all in your hands! When you feel done with your investigations, look back over what you've accomplished, and prepare a quick presentation of your findings for the next mentor meeting. \n",
    "\n",
    "Data Science is magical. In this case study, you'll get to apply some complex machine learning algorithms. But as  [David Spiegelhalter](https://www.youtube.com/watch?v=oUs1uvsz0Ok) reminds us, there is no substitute for simply **taking a really, really good look at the data.** Sometimes, this is all we need to answer our question.\n",
    "\n",
    "Data Science projects generally adhere to the four stages of Data Science Pipeline:\n",
    "1. Sourcing and loading \n",
    "2. Cleaning, transforming, and visualizing \n",
    "3. Modeling \n",
    "4. Evaluating and concluding \n"
   ]
  },
  {
   "cell_type": "markdown",
   "metadata": {
    "colab_type": "text",
    "id": "zswDqbefJpgm"
   },
   "source": [
    "### 1. Sourcing and Loading \n",
    "\n",
    "Any Data Science project kicks off by importing  ***pandas***. The documentation of this wonderful library can be found [here](https://pandas.pydata.org/). As you've seen, pandas is conveniently connected to the [Numpy](http://www.numpy.org/) and [Matplotlib](https://matplotlib.org/) libraries. \n",
    "\n",
    "***Hint:*** This part of the data science pipeline will test those skills you acquired in the pandas Foundations course, Module One. "
   ]
  },
  {
   "cell_type": "markdown",
   "metadata": {
    "colab_type": "text",
    "id": "aEau5nEvJpgm"
   },
   "source": [
    "#### 1.1. Importing Libraries"
   ]
  },
  {
   "cell_type": "code",
   "execution_count": 550,
   "metadata": {
    "colab": {},
    "colab_type": "code",
    "id": "7Bt_Q_oPJpgn"
   },
   "outputs": [],
   "source": [
    "# Let's import the pandas, numpy libraries as pd, and np respectively. \n",
    "import pandas as pd\n",
    "\n",
    "import numpy as np\n",
    "\n",
    "import seaborn as sns\n",
    "\n",
    "\n",
    "from datetime import datetime as dt \n",
    "# Load the pyplot collection of functions from matplotlib, as plt \n",
    "from matplotlib import pyplot as plt"
   ]
  },
  {
   "cell_type": "markdown",
   "metadata": {
    "colab_type": "text",
    "id": "koUrawxsJpgq"
   },
   "source": [
    "#### 1.2.  Loading the data\n",
    "Your data comes from the [London Datastore](https://data.london.gov.uk/): a free, open-source data-sharing portal for London-oriented datasets. "
   ]
  },
  {
   "cell_type": "code",
   "execution_count": 551,
   "metadata": {
    "colab": {},
    "colab_type": "code",
    "id": "AiLiD4v3Jpgr"
   },
   "outputs": [],
   "source": [
    "# First, make a variable called url_LondonHousePrices, and assign it the following link, enclosed in quotation-marks as a string:\n",
    "# https://data.london.gov.uk/download/uk-house-price-index/70ac0766-8902-4eb5-aab5-01951aaed773/UK%20House%20price%20index.xls\n",
    "\n",
    "url_LondonHousePrices = \"https://data.london.gov.uk/download/uk-house-price-index/70ac0766-8902-4eb5-aab5-01951aaed773/UK%20House%20price%20index.xls\"\n",
    "\n",
    "# The dataset we're interested in contains the Average prices of the houses, and is actually on a particular sheet of the Excel file. \n",
    "# As a result, we need to specify the sheet name in the read_excel() method.\n",
    "# Put this data into a variable called properties.  \n",
    "properties = pd.read_excel(url_LondonHousePrices, sheet_name='Average price', index_col= None)"
   ]
  },
  {
   "cell_type": "markdown",
   "metadata": {
    "colab_type": "text",
    "id": "POukEJXgJpgu"
   },
   "source": [
    "### 2. Cleaning, transforming, and visualizing\n",
    "This second stage is arguably the most important part of any Data Science project. The first thing to do is take a proper look at the data. Cleaning forms the majority of this stage, and can be done both before or after Transformation.\n",
    "\n",
    "The end goal of data cleaning is to have tidy data. When data is tidy: \n",
    "\n",
    "1. Each variable has a column.\n",
    "2. Each observation forms a row.\n",
    "\n",
    "Keep the end goal in mind as you move through this process, every step will take you closer. \n",
    "\n",
    "\n",
    "\n",
    "***Hint:*** This part of the data science pipeline should test those skills you acquired in: \n",
    "- Intermediate Python for data science, all modules.\n",
    "- pandas Foundations, all modules. \n",
    "- Manipulating DataFrames with pandas, all modules.\n",
    "- Data Types for Data Science, Module Four.\n",
    "- Python Data Science Toolbox - Part One, all modules"
   ]
  },
  {
   "cell_type": "markdown",
   "metadata": {
    "colab_type": "text",
    "id": "Te0Q548tnzZa"
   },
   "source": [
    "**2.1. Exploring your data** \n",
    "\n",
    "Think about your pandas functions for checking out a dataframe. "
   ]
  },
  {
   "cell_type": "code",
   "execution_count": 552,
   "metadata": {
    "colab": {},
    "colab_type": "code",
    "id": "Rxirxw_qoAJa"
   },
   "outputs": [
    {
     "name": "stdout",
     "output_type": "stream",
     "text": [
      "    Unnamed: 0 City of London Barking & Dagenham       Barnet       Bexley  \\\n",
      "0          NaT      E09000001          E09000002    E09000003    E09000004   \n",
      "1   1995-01-01    91448.98487         50460.2266  93284.51832  64958.09036   \n",
      "2   1995-02-01    82202.77314        51085.77983  93190.16963  64787.92069   \n",
      "3   1995-03-01    79120.70256        51268.96956  92247.52435  64367.49344   \n",
      "4   1995-04-01    77101.20804        53133.50526  90762.87492  64277.66881   \n",
      "..         ...            ...                ...          ...          ...   \n",
      "313 2021-01-01    760599.2322        311007.1517  538842.4015   356664.073   \n",
      "314 2021-02-01    729315.7243        313835.8023  538215.8867  360116.1134   \n",
      "315 2021-03-01    717528.2633        314187.4036  542872.3895  364480.9055   \n",
      "316 2021-04-01    713094.5391        309680.5549  545746.3543  365519.4195   \n",
      "317 2021-05-01    765822.2726        308760.1446  546082.2634  368554.8059   \n",
      "\n",
      "           Brent      Bromley       Camden      Croydon       Ealing  ...  \\\n",
      "0      E09000005    E09000006    E09000007    E09000008    E09000009  ...   \n",
      "1    71306.56698  81671.47692  120932.8881  69158.16225  79885.89069  ...   \n",
      "2    72022.26197  81657.55944  119508.8622  68951.09542  80897.06551  ...   \n",
      "3    72015.76274  81449.31143  120282.2131  68712.44341  81379.86288  ...   \n",
      "4    72965.63094  81124.41227   120097.899  68610.04641  82188.90498  ...   \n",
      "..           ...          ...          ...          ...          ...  ...   \n",
      "313  511347.8856  458538.6051  794463.2032   382310.371  498642.3074  ...   \n",
      "314  514388.7387  458024.7806  790813.8985   384846.606  497676.6553  ...   \n",
      "315  519212.9441   460420.733  806482.3416  390512.0744  502120.9189  ...   \n",
      "316  498083.9417  466961.6711  820036.1029  391131.5997  508489.5758  ...   \n",
      "317  508570.7598  485946.8184  835265.0364  385311.3588  508906.9811  ...   \n",
      "\n",
      "      NORTH WEST YORKS & THE HUMBER EAST MIDLANDS WEST MIDLANDS  \\\n",
      "0      E12000002          E12000003     E12000004     E12000005   \n",
      "1    43958.48001        44803.42878   45544.52227   48527.52339   \n",
      "2    43925.42289        44528.80721   46051.57066   49341.29029   \n",
      "3     44434.8681        45200.46775   45383.82395   49442.17973   \n",
      "4     44267.7796        45614.34341   46124.23045   49455.93299   \n",
      "..           ...                ...           ...           ...   \n",
      "313  182023.0688         181210.319   211662.9753   213767.7896   \n",
      "314  185491.1439         182171.964   214806.6452   217428.1605   \n",
      "315  188555.1194        185494.4564   216077.5896   219461.1998   \n",
      "316  186596.2972        180465.4181   216576.9387   217987.4542   \n",
      "317  189245.3679        181855.6158   216077.0382   219793.3218   \n",
      "\n",
      "    EAST OF ENGLAND       LONDON   SOUTH EAST   SOUTH WEST Unnamed: 47  \\\n",
      "0         E12000006    E12000007    E12000008    E12000009         NaN   \n",
      "1        56701.5961  74435.76052  64018.87894   54705.1579         NaN   \n",
      "2       56593.59475  72777.93709  63715.02399  54356.14843         NaN   \n",
      "3       56171.18278  73896.84204  64113.60858  53583.07667         NaN   \n",
      "4       56567.89582  74455.28754  64623.22395  54786.01938         NaN   \n",
      "..              ...          ...          ...          ...         ...   \n",
      "313     307093.7156  500709.9478  340693.8825  277604.5982         NaN   \n",
      "314     310402.8157  493212.3662  342381.2949  280339.3706         NaN   \n",
      "315     313973.0585  504384.0052  348865.2391  286189.8736         NaN   \n",
      "316     313370.6513  501209.9372  345114.7342  279274.2848         NaN   \n",
      "317     310200.2564  497947.9589  350015.5072  277602.6983         NaN   \n",
      "\n",
      "         England  \n",
      "0      E92000001  \n",
      "1    53202.77128  \n",
      "2     53096.1549  \n",
      "3     53201.2843  \n",
      "4     53590.8548  \n",
      "..           ...  \n",
      "313  266913.9713  \n",
      "314  269052.4737  \n",
      "315  273495.3486  \n",
      "316  270387.7893  \n",
      "317  271433.8707  \n",
      "\n",
      "[318 rows x 49 columns]\n"
     ]
    }
   ],
   "source": [
    "print(properties)"
   ]
  },
  {
   "cell_type": "code",
   "execution_count": 553,
   "metadata": {},
   "outputs": [
    {
     "data": {
      "text/plain": [
       "(318, 49)"
      ]
     },
     "execution_count": 553,
     "metadata": {},
     "output_type": "execute_result"
    }
   ],
   "source": [
    "properties.shape"
   ]
  },
  {
   "cell_type": "markdown",
   "metadata": {
    "colab_type": "text",
    "id": "tE9Sqt9-oAta"
   },
   "source": [
    "**2.2. Cleaning the data**\n",
    "\n",
    "You might find you need to transpose your dataframe, check out what its row indexes are, and reset the index. You  also might find you need to assign the values of the first row to your column headings  . (Hint: recall the .columns feature of DataFrames, as well as the iloc[] method).\n",
    "\n",
    "Don't be afraid to use StackOverflow for help  with this."
   ]
  },
  {
   "cell_type": "code",
   "execution_count": 554,
   "metadata": {
    "colab": {},
    "colab_type": "code",
    "id": "cdAu1A3YoH_r"
   },
   "outputs": [],
   "source": [
    "properties = properties.transpose()"
   ]
  },
  {
   "cell_type": "code",
   "execution_count": 555,
   "metadata": {},
   "outputs": [],
   "source": [
    "properties = properties.reset_index()"
   ]
  },
  {
   "cell_type": "code",
   "execution_count": 557,
   "metadata": {},
   "outputs": [
    {
     "name": "stdout",
     "output_type": "stream",
     "text": [
      "                   index          0                    1                    2  \\\n",
      "0             Unnamed: 0        NaT  1995-01-01 00:00:00  1995-02-01 00:00:00   \n",
      "1         City of London  E09000001          91448.98487          82202.77314   \n",
      "2     Barking & Dagenham  E09000002           50460.2266          51085.77983   \n",
      "3                 Barnet  E09000003          93284.51832          93190.16963   \n",
      "4                 Bexley  E09000004          64958.09036          64787.92069   \n",
      "5                  Brent  E09000005          71306.56698          72022.26197   \n",
      "6                Bromley  E09000006          81671.47692          81657.55944   \n",
      "7                 Camden  E09000007          120932.8881          119508.8622   \n",
      "8                Croydon  E09000008          69158.16225          68951.09542   \n",
      "9                 Ealing  E09000009          79885.89069          80897.06551   \n",
      "10               Enfield  E09000010          72514.69096          73155.19746   \n",
      "11             Greenwich  E09000011          62300.10169          60993.26863   \n",
      "12               Hackney  E09000012          61296.52637          63187.08332   \n",
      "13  Hammersmith & Fulham  E09000013          124902.8602           122087.718   \n",
      "14              Haringey  E09000014          76287.56947          78901.21036   \n",
      "15                Harrow  E09000015          84769.52599          83396.10525   \n",
      "16              Havering  E09000016          68000.13774          69393.51294   \n",
      "17            Hillingdon  E09000017          73834.82964           75031.0696   \n",
      "18              Hounslow  E09000018          72231.70537          71051.55852   \n",
      "19             Islington  E09000019          92516.48557          94342.37334   \n",
      "20  Kensington & Chelsea  E09000020          182694.8326          182345.2463   \n",
      "21  Kingston upon Thames  E09000021          80875.84843          81230.13524   \n",
      "22               Lambeth  E09000022          67770.98843          65381.51908   \n",
      "23              Lewisham  E09000023          60491.26109          60869.27091   \n",
      "24                Merton  E09000024           82070.6133          79982.74872   \n",
      "25                Newham  E09000025          53539.31919          53153.88306   \n",
      "26             Redbridge  E09000026          72189.58437           72141.6261   \n",
      "27  Richmond upon Thames  E09000027          109326.1245          111103.0394   \n",
      "28             Southwark  E09000028          67885.20344           64799.0648   \n",
      "29                Sutton  E09000029          71536.97357          70893.20851   \n",
      "30         Tower Hamlets  E09000030          59865.18995          62318.53353   \n",
      "31        Waltham Forest  E09000031          61319.44913          60252.12246   \n",
      "32            Wandsworth  E09000032          88559.04381          88641.01678   \n",
      "33           Westminster  E09000033          133025.2772          131468.3096   \n",
      "34           Unnamed: 34        NaN                  NaN                  NaN   \n",
      "35          Inner London  E13000001           78251.9765          75885.70201   \n",
      "36          Outer London  E13000002          72958.79836          72937.88262   \n",
      "37           Unnamed: 37        NaN                  NaN                  NaN   \n",
      "38            NORTH EAST  E12000001          42076.35411          42571.98949   \n",
      "39            NORTH WEST  E12000002          43958.48001          43925.42289   \n",
      "40    YORKS & THE HUMBER  E12000003          44803.42878          44528.80721   \n",
      "41         EAST MIDLANDS  E12000004          45544.52227          46051.57066   \n",
      "42         WEST MIDLANDS  E12000005          48527.52339          49341.29029   \n",
      "43       EAST OF ENGLAND  E12000006           56701.5961          56593.59475   \n",
      "44                LONDON  E12000007          74435.76052          72777.93709   \n",
      "45            SOUTH EAST  E12000008          64018.87894          63715.02399   \n",
      "46            SOUTH WEST  E12000009           54705.1579          54356.14843   \n",
      "47           Unnamed: 47        NaN                  NaN                  NaN   \n",
      "48               England  E92000001          53202.77128           53096.1549   \n",
      "\n",
      "                      3                    4                    5  \\\n",
      "0   1995-03-01 00:00:00  1995-04-01 00:00:00  1995-05-01 00:00:00   \n",
      "1           79120.70256          77101.20804          84409.14932   \n",
      "2           51268.96956          53133.50526          53042.24852   \n",
      "3           92247.52435          90762.87492          90258.00033   \n",
      "4           64367.49344          64277.66881          63997.13588   \n",
      "5           72015.76274          72965.63094          73704.04743   \n",
      "6           81449.31143          81124.41227          81542.61561   \n",
      "7           120282.2131           120097.899          119929.2782   \n",
      "8           68712.44341          68610.04641           68844.9169   \n",
      "9           81379.86288          82188.90498          82077.05525   \n",
      "10          72190.44144          71442.92235          70630.77955   \n",
      "11          61377.83464           61927.7246          63512.99103   \n",
      "12          63593.29935          65139.64403          66193.99212   \n",
      "13          120635.9467          121424.6241           124433.539   \n",
      "14          78521.94855          79545.57477           79374.0349   \n",
      "15          83416.23759          83567.88439          83853.65615   \n",
      "16          69368.02407          69444.26215          68534.52248   \n",
      "17          74188.66949          73911.40591          73117.12416   \n",
      "18          72097.99411          71890.28339          72877.47219   \n",
      "19          93465.86407          93344.49305          94346.39917   \n",
      "20          182878.8231          184176.9168          191474.1141   \n",
      "21          81111.48848          81672.80476          82123.51084   \n",
      "22          66336.51868           66388.7716          69035.11076   \n",
      "23          60288.03002          59471.03136          58551.38387   \n",
      "24          80661.68279          79990.54333          80873.98643   \n",
      "25          53458.26393          54479.75395          55803.95958   \n",
      "26          72501.35502          72228.60295          72366.64122   \n",
      "27          107325.4742               106875          107707.6799   \n",
      "28          65763.29719          63073.62117          64420.49933   \n",
      "29          70306.83844           69411.9439          69759.21989   \n",
      "30          63938.67686          66233.19383          66432.85846   \n",
      "31          60871.08493          60971.39722          61494.16938   \n",
      "32          87124.81523          87026.00225          86518.05945   \n",
      "33          132260.3417          133370.2036          133911.1117   \n",
      "34                  NaN                  NaN                  NaN   \n",
      "35          76591.59947          76851.56697          79129.19443   \n",
      "36          72714.53478          72591.92469          72752.99414   \n",
      "37                  NaN                  NaN                  NaN   \n",
      "38          42369.72984           42095.8436          43266.45165   \n",
      "39           44434.8681           44267.7796          44223.61973   \n",
      "40          45200.46775          45614.34341          44830.98563   \n",
      "41          45383.82395          46124.23045          45878.00396   \n",
      "42          49442.17973          49455.93299          50369.66188   \n",
      "43          56171.18278          56567.89582          56479.80183   \n",
      "44          73896.84204          74455.28754          75432.02786   \n",
      "45          64113.60858          64623.22395          64530.36358   \n",
      "46          53583.07667          54786.01938          54698.83831   \n",
      "47                  NaN                  NaN                  NaN   \n",
      "48           53201.2843           53590.8548          53678.24041   \n",
      "\n",
      "                      6                    7                    8  ...  \\\n",
      "0   1995-06-01 00:00:00  1995-07-01 00:00:00  1995-08-01 00:00:00  ...   \n",
      "1           94900.51244          110128.0423          112329.4376  ...   \n",
      "2           53700.34831          52113.12157          52232.19868  ...   \n",
      "3           90107.23471          91441.24768          92361.31512  ...   \n",
      "4           64252.32335          63722.70055          64432.60005  ...   \n",
      "5           74310.48167          74127.03788           73547.0411  ...   \n",
      "6           82382.83435          82898.52264          82054.37156  ...   \n",
      "7           121887.4625          124027.5768          125529.8039  ...   \n",
      "8           69052.51103          69142.48112          68993.42545  ...   \n",
      "9           81630.66181           82352.2226          82706.65927  ...   \n",
      "10          71348.31147          71837.54011          72237.94562  ...   \n",
      "11          64751.56404          65486.34112          65076.43195  ...   \n",
      "12          66921.17101            68390.753          68096.79385  ...   \n",
      "13          126175.1513          124381.5134          123625.3196  ...   \n",
      "14           79956.3621          80746.34881          81217.69074  ...   \n",
      "15          84173.24689          84226.69844          84430.61796  ...   \n",
      "16          68464.60664          68680.83996          69023.36482  ...   \n",
      "17          74005.00585          74671.13263          74967.86534  ...   \n",
      "18          72331.08116          73717.78844          74479.94802  ...   \n",
      "19          97428.94311          98976.14077          98951.20791  ...   \n",
      "20          197265.7602          197963.3169          198037.4218  ...   \n",
      "21          82205.66822            82525.793          83342.84552  ...   \n",
      "22          68881.15764          69608.72242          68840.02827  ...   \n",
      "23          58041.43543          58126.37811           58151.3154  ...   \n",
      "24          80704.92667          81055.90335          80781.09186  ...   \n",
      "25          56067.76986          55458.31693          54709.35467  ...   \n",
      "26           72279.4325          72880.83974          73275.16891  ...   \n",
      "27          112865.0542          114656.6011          112320.4096  ...   \n",
      "28          64155.81449          67024.74767          65525.94434  ...   \n",
      "29          70125.24728          70789.57284          69958.41918  ...   \n",
      "30          66232.16372          64692.22672          63472.27558  ...   \n",
      "31          61547.79643          61933.52738           61916.4222  ...   \n",
      "32           88114.3351          89830.58934          90560.68078  ...   \n",
      "33          134562.1941          133450.2162          136581.5082  ...   \n",
      "34                  NaN                  NaN                  NaN  ...   \n",
      "35           79969.1525          80550.47935          80597.64563  ...   \n",
      "36          73189.39978          73665.90517          73691.12888  ...   \n",
      "37                  NaN                  NaN                  NaN  ...   \n",
      "38          42315.34372          43287.74323          41899.05494  ...   \n",
      "39          44112.96432          44109.58764          44193.66583  ...   \n",
      "40          45392.63981          45534.99864          45111.45939  ...   \n",
      "41          45679.99539          46037.67312          45922.53585  ...   \n",
      "42          50100.43023          49860.00809          49598.45969  ...   \n",
      "43          56288.94557          57242.30186          56732.40547  ...   \n",
      "44          75606.24501          75984.24079          75529.34488  ...   \n",
      "45            65511.008          65224.88465          64851.60429  ...   \n",
      "46          54420.15939          54265.86368          54365.71495  ...   \n",
      "47                  NaN                  NaN                  NaN  ...   \n",
      "48          53735.15475          53900.60633          53600.31975  ...   \n",
      "\n",
      "                    308                  309                  310  \\\n",
      "0   2020-08-01 00:00:00  2020-09-01 00:00:00  2020-10-01 00:00:00   \n",
      "1           827658.5167          798499.1646          836807.0518   \n",
      "2           304923.5027          301702.4656          304852.1338   \n",
      "3           529660.1524            533619.23          530353.5205   \n",
      "4           346679.9244          345061.4945          345404.9836   \n",
      "5           497729.0327          519561.8277          522239.3216   \n",
      "6           433422.5529          435059.5551          437146.4066   \n",
      "7           824742.2295           839031.823           827264.235   \n",
      "8           374029.6601          377322.4452          376775.3407   \n",
      "9           483810.1893          490927.7747          492155.7477   \n",
      "10          397144.6805          399741.7122          406689.2705   \n",
      "11          389491.0014          399103.6966          400073.7527   \n",
      "12          584803.5943           607149.738          592287.1855   \n",
      "13          758825.1121          752481.0114          732566.3134   \n",
      "14           565432.092          570180.4805          587338.9937   \n",
      "15          452524.2946          454162.7856          457571.9533   \n",
      "16          375067.0321          373311.9564          372049.7335   \n",
      "17          410160.5501          410313.6412            414765.25   \n",
      "18          407761.4209          418843.3232          422508.2338   \n",
      "19          678740.7757          691113.9478          687446.0824   \n",
      "20          1344349.768          1347732.643          1302911.837   \n",
      "21          497936.3958          499977.6186          499235.8105   \n",
      "22          538243.3082           544458.117           543795.433   \n",
      "23          421910.1543          427228.6325          434286.6237   \n",
      "24          528416.8149          525931.4742          540158.0019   \n",
      "25          374037.2593          368466.9133          373990.7239   \n",
      "26          420140.3519          427270.4524          430362.8443   \n",
      "27          688623.5668           689690.238          689039.3023   \n",
      "28          506554.3156          510642.8023          516213.6146   \n",
      "29          378301.2131          381404.5753          385399.1338   \n",
      "30          454849.8542          467584.3014          474452.5927   \n",
      "31           449509.609           450747.785          462071.8592   \n",
      "32          611665.4591          630857.4308          628923.0145   \n",
      "33          981247.5684          941113.8842          908254.8836   \n",
      "34                  NaN                  NaN                  NaN   \n",
      "35          588876.4917          595535.3247          595195.5482   \n",
      "36          431208.8779          434299.4286          436791.4968   \n",
      "37                  NaN                  NaN                  NaN   \n",
      "38           131489.725          135362.9866          135915.5359   \n",
      "39          173942.3313            174192.28          178445.8253   \n",
      "40          171633.8869          172109.6371          175544.7337   \n",
      "41          201350.8212          202269.5488          206180.7444   \n",
      "42          205465.5236          207557.9134          210182.3047   \n",
      "43          296927.7325          300531.5527          300930.9373   \n",
      "44          488557.1748           492983.253          487614.9873   \n",
      "45          329549.8357          332371.6618          334234.6065   \n",
      "46           265726.014          270737.2643          273079.8949   \n",
      "47                  NaN                  NaN                  NaN   \n",
      "48          256134.6892          258544.5629          261076.3959   \n",
      "\n",
      "                    311                  312                  313  \\\n",
      "0   2020-11-01 00:00:00  2020-12-01 00:00:00  2021-01-01 00:00:00   \n",
      "1           769391.7847          801999.0466          760599.2322   \n",
      "2           305012.3291          309560.1023          311007.1517   \n",
      "3           528816.4928          532528.0926          538842.4015   \n",
      "4           346252.9145          352260.8385           356664.073   \n",
      "5            513100.814          495066.6459          511347.8856   \n",
      "6           445154.9752          453388.6856          458538.6051   \n",
      "7           815442.5796          786159.1736          794463.2032   \n",
      "8           381291.8052          380132.1469           382310.371   \n",
      "9           495013.8996           495499.091          498642.3074   \n",
      "10          405834.8632          412872.2663           416386.517   \n",
      "11          403991.2523          401012.0953           408802.279   \n",
      "12           597591.302          589271.7224          594532.7955   \n",
      "13          745044.1986          728846.8663          738078.2578   \n",
      "14          581958.1356           584144.363            590451.42   \n",
      "15           468407.223          474609.0823          473463.6762   \n",
      "16          373926.8562          378206.3802          381457.9285   \n",
      "17          415694.6426          426361.8057          425801.3674   \n",
      "18          429110.8779           425582.459          427276.4559   \n",
      "19          676686.8532          661169.9422          675465.2556   \n",
      "20          1315400.118          1350334.637          1350852.299   \n",
      "21          493846.9991          497767.9431          503380.0526   \n",
      "22          544844.4911          538485.0954          543607.2157   \n",
      "23          440733.0139          440484.5339          445995.2567   \n",
      "24          550211.3874          555218.8649           557139.019   \n",
      "25          377944.5191           387426.982          387103.9313   \n",
      "26          435811.4807          440915.5361          450445.8837   \n",
      "27          693000.1936          692690.2272          692938.5043   \n",
      "28          526872.8065          540038.4516          544009.7492   \n",
      "29           389500.395          391576.5318          392900.8253   \n",
      "30          469783.4353          468389.6716          465992.8317   \n",
      "31          470824.4702          473237.6061          476861.9081   \n",
      "32          621452.3655          607846.3389          603893.4468   \n",
      "33          902768.5758          916413.8942          935765.8068   \n",
      "34                  NaN                  NaN                  NaN   \n",
      "35           595484.905          593672.3963          597157.2097   \n",
      "36          440048.6131          443059.0041          446938.8586   \n",
      "37                  NaN                  NaN                  NaN   \n",
      "38          138174.9231          139712.8463          140055.2324   \n",
      "39          179263.9476          183163.7436          182023.0688   \n",
      "40          179048.2338          180627.5702           181210.319   \n",
      "41          208278.4736          211156.7286          211662.9753   \n",
      "42          211497.0859          215421.6458          213767.7896   \n",
      "43          301780.6317          307339.3853          307093.7156   \n",
      "44          495720.6762          497928.5995          500709.9478   \n",
      "45          337976.1181          340839.4608          340693.8825   \n",
      "46           274661.494          278732.1498          277604.5982   \n",
      "47                  NaN                  NaN                  NaN   \n",
      "48          263626.8483          267194.1781          266913.9713   \n",
      "\n",
      "                    314                  315                  316  \\\n",
      "0   2021-02-01 00:00:00  2021-03-01 00:00:00  2021-04-01 00:00:00   \n",
      "1           729315.7243          717528.2633          713094.5391   \n",
      "2           313835.8023          314187.4036          309680.5549   \n",
      "3           538215.8867          542872.3895          545746.3543   \n",
      "4           360116.1134          364480.9055          365519.4195   \n",
      "5           514388.7387          519212.9441          498083.9417   \n",
      "6           458024.7806           460420.733          466961.6711   \n",
      "7           790813.8985          806482.3416          820036.1029   \n",
      "8            384846.606          390512.0744          391131.5997   \n",
      "9           497676.6553          502120.9189          508489.5758   \n",
      "10          419433.9572          421477.7229          424161.9179   \n",
      "11          408192.8661          411116.0956          403272.4802   \n",
      "12          601650.7731          601420.4518          578506.1057   \n",
      "13          719369.3561           725520.653          745896.2898   \n",
      "14          580442.9637          578849.4169          556260.8875   \n",
      "15          480387.3639          484905.4375          489103.4687   \n",
      "16          385160.5197          384926.3853          387314.0335   \n",
      "17          426594.6113          425507.8911          432570.2424   \n",
      "18           424808.647          427728.6228          436347.6262   \n",
      "19           684705.602          695913.0085          665304.1939   \n",
      "20          1270423.512          1225329.246          1181021.968   \n",
      "21          503845.2825          510402.4361           506490.192   \n",
      "22          532276.1641          534402.3452          532795.7974   \n",
      "23          446073.2999          448455.7867            449322.57   \n",
      "24          552028.4184          557911.8845          547869.1294   \n",
      "25          389088.5871           391087.905           384508.219   \n",
      "26          452504.1265          452080.3984          450065.9304   \n",
      "27          685032.1973          689709.1135          706127.5494   \n",
      "28          528135.1246          524300.5173          524228.3587   \n",
      "29          395682.6238          398145.0748          398405.9655   \n",
      "30          476744.0468          480771.9815          486922.4786   \n",
      "31          481028.5298          484283.9689          482393.7861   \n",
      "32          597334.5711          600481.9513           606685.038   \n",
      "33          954230.8673          957928.1472          1003610.165   \n",
      "34                  NaN                  NaN                  NaN   \n",
      "35          592958.4472          594638.1926          593222.8512   \n",
      "36          448194.9557          451301.3471          452219.6263   \n",
      "37                  NaN                  NaN                  NaN   \n",
      "38          140413.6226          144287.3131          141169.8277   \n",
      "39          185491.1439          188555.1194          186596.2972   \n",
      "40           182171.964          185494.4564          180465.4181   \n",
      "41          214806.6452          216077.5896          216576.9387   \n",
      "42          217428.1605          219461.1998          217987.4542   \n",
      "43          310402.8157          313973.0585          313370.6513   \n",
      "44          493212.3662          504384.0052          501209.9372   \n",
      "45          342381.2949          348865.2391          345114.7342   \n",
      "46          280339.3706          286189.8736          279274.2848   \n",
      "47                  NaN                  NaN                  NaN   \n",
      "48          269052.4737          273495.3486          270387.7893   \n",
      "\n",
      "                    317  \n",
      "0   2021-05-01 00:00:00  \n",
      "1           765822.2726  \n",
      "2           308760.1446  \n",
      "3           546082.2634  \n",
      "4           368554.8059  \n",
      "5           508570.7598  \n",
      "6           485946.8184  \n",
      "7           835265.0364  \n",
      "8           385311.3588  \n",
      "9           508906.9811  \n",
      "10          424338.9465  \n",
      "11          400215.9697  \n",
      "12          553032.4913  \n",
      "13          780943.9437  \n",
      "14          563687.1834  \n",
      "15          475120.6397  \n",
      "16          388851.1946  \n",
      "17          432718.1496  \n",
      "18          442022.6558  \n",
      "19          648263.4033  \n",
      "20          1209210.106  \n",
      "21          507702.1129  \n",
      "22          542973.0356  \n",
      "23          438510.4581  \n",
      "24          541504.0623  \n",
      "25          389308.8066  \n",
      "26          448582.2303  \n",
      "27          723774.8782  \n",
      "28          528767.1201  \n",
      "29          394980.6279  \n",
      "30          474143.6754  \n",
      "31          487133.1115  \n",
      "32          625412.3388  \n",
      "33          974523.3852  \n",
      "34                  NaN  \n",
      "35          594623.8244  \n",
      "36          453877.4197  \n",
      "37                  NaN  \n",
      "38          143128.7844  \n",
      "39          189245.3679  \n",
      "40          181855.6158  \n",
      "41          216077.0382  \n",
      "42          219793.3218  \n",
      "43          310200.2564  \n",
      "44          497947.9589  \n",
      "45          350015.5072  \n",
      "46          277602.6983  \n",
      "47                  NaN  \n",
      "48          271433.8707  \n",
      "\n",
      "[49 rows x 319 columns]\n"
     ]
    }
   ],
   "source": [
    "print(properties)"
   ]
  },
  {
   "cell_type": "code",
   "execution_count": 558,
   "metadata": {},
   "outputs": [],
   "source": [
    "properties = properties.rename(columns = properties.iloc[0])"
   ]
  },
  {
   "cell_type": "code",
   "execution_count": 559,
   "metadata": {},
   "outputs": [
    {
     "name": "stdout",
     "output_type": "stream",
     "text": [
      "Index([       'Unnamed: 0',                 NaT, 1995-01-01 00:00:00,\n",
      "       1995-02-01 00:00:00, 1995-03-01 00:00:00, 1995-04-01 00:00:00,\n",
      "       1995-05-01 00:00:00, 1995-06-01 00:00:00, 1995-07-01 00:00:00,\n",
      "       1995-08-01 00:00:00,\n",
      "       ...\n",
      "       2020-08-01 00:00:00, 2020-09-01 00:00:00, 2020-10-01 00:00:00,\n",
      "       2020-11-01 00:00:00, 2020-12-01 00:00:00, 2021-01-01 00:00:00,\n",
      "       2021-02-01 00:00:00, 2021-03-01 00:00:00, 2021-04-01 00:00:00,\n",
      "       2021-05-01 00:00:00],\n",
      "      dtype='object', length=319)\n"
     ]
    }
   ],
   "source": [
    "print(properties.columns)"
   ]
  },
  {
   "cell_type": "code",
   "execution_count": 560,
   "metadata": {},
   "outputs": [
    {
     "data": {
      "text/html": [
       "<div>\n",
       "<style scoped>\n",
       "    .dataframe tbody tr th:only-of-type {\n",
       "        vertical-align: middle;\n",
       "    }\n",
       "\n",
       "    .dataframe tbody tr th {\n",
       "        vertical-align: top;\n",
       "    }\n",
       "\n",
       "    .dataframe thead th {\n",
       "        text-align: right;\n",
       "    }\n",
       "</style>\n",
       "<table border=\"1\" class=\"dataframe\">\n",
       "  <thead>\n",
       "    <tr style=\"text-align: right;\">\n",
       "      <th></th>\n",
       "      <th>Unnamed: 0</th>\n",
       "      <th>NaN</th>\n",
       "      <th>1995-01-01 00:00:00</th>\n",
       "      <th>1995-02-01 00:00:00</th>\n",
       "      <th>1995-03-01 00:00:00</th>\n",
       "      <th>1995-04-01 00:00:00</th>\n",
       "      <th>1995-05-01 00:00:00</th>\n",
       "      <th>1995-06-01 00:00:00</th>\n",
       "      <th>1995-07-01 00:00:00</th>\n",
       "      <th>1995-08-01 00:00:00</th>\n",
       "      <th>...</th>\n",
       "      <th>2020-08-01 00:00:00</th>\n",
       "      <th>2020-09-01 00:00:00</th>\n",
       "      <th>2020-10-01 00:00:00</th>\n",
       "      <th>2020-11-01 00:00:00</th>\n",
       "      <th>2020-12-01 00:00:00</th>\n",
       "      <th>2021-01-01 00:00:00</th>\n",
       "      <th>2021-02-01 00:00:00</th>\n",
       "      <th>2021-03-01 00:00:00</th>\n",
       "      <th>2021-04-01 00:00:00</th>\n",
       "      <th>2021-05-01 00:00:00</th>\n",
       "    </tr>\n",
       "  </thead>\n",
       "  <tbody>\n",
       "    <tr>\n",
       "      <th>0</th>\n",
       "      <td>Unnamed: 0</td>\n",
       "      <td>NaT</td>\n",
       "      <td>1995-01-01 00:00:00</td>\n",
       "      <td>1995-02-01 00:00:00</td>\n",
       "      <td>1995-03-01 00:00:00</td>\n",
       "      <td>1995-04-01 00:00:00</td>\n",
       "      <td>1995-05-01 00:00:00</td>\n",
       "      <td>1995-06-01 00:00:00</td>\n",
       "      <td>1995-07-01 00:00:00</td>\n",
       "      <td>1995-08-01 00:00:00</td>\n",
       "      <td>...</td>\n",
       "      <td>2020-08-01 00:00:00</td>\n",
       "      <td>2020-09-01 00:00:00</td>\n",
       "      <td>2020-10-01 00:00:00</td>\n",
       "      <td>2020-11-01 00:00:00</td>\n",
       "      <td>2020-12-01 00:00:00</td>\n",
       "      <td>2021-01-01 00:00:00</td>\n",
       "      <td>2021-02-01 00:00:00</td>\n",
       "      <td>2021-03-01 00:00:00</td>\n",
       "      <td>2021-04-01 00:00:00</td>\n",
       "      <td>2021-05-01 00:00:00</td>\n",
       "    </tr>\n",
       "    <tr>\n",
       "      <th>1</th>\n",
       "      <td>City of London</td>\n",
       "      <td>E09000001</td>\n",
       "      <td>91448.98487</td>\n",
       "      <td>82202.77314</td>\n",
       "      <td>79120.70256</td>\n",
       "      <td>77101.20804</td>\n",
       "      <td>84409.14932</td>\n",
       "      <td>94900.51244</td>\n",
       "      <td>110128.0423</td>\n",
       "      <td>112329.4376</td>\n",
       "      <td>...</td>\n",
       "      <td>827658.5167</td>\n",
       "      <td>798499.1646</td>\n",
       "      <td>836807.0518</td>\n",
       "      <td>769391.7847</td>\n",
       "      <td>801999.0466</td>\n",
       "      <td>760599.2322</td>\n",
       "      <td>729315.7243</td>\n",
       "      <td>717528.2633</td>\n",
       "      <td>713094.5391</td>\n",
       "      <td>765822.2726</td>\n",
       "    </tr>\n",
       "    <tr>\n",
       "      <th>2</th>\n",
       "      <td>Barking &amp; Dagenham</td>\n",
       "      <td>E09000002</td>\n",
       "      <td>50460.2266</td>\n",
       "      <td>51085.77983</td>\n",
       "      <td>51268.96956</td>\n",
       "      <td>53133.50526</td>\n",
       "      <td>53042.24852</td>\n",
       "      <td>53700.34831</td>\n",
       "      <td>52113.12157</td>\n",
       "      <td>52232.19868</td>\n",
       "      <td>...</td>\n",
       "      <td>304923.5027</td>\n",
       "      <td>301702.4656</td>\n",
       "      <td>304852.1338</td>\n",
       "      <td>305012.3291</td>\n",
       "      <td>309560.1023</td>\n",
       "      <td>311007.1517</td>\n",
       "      <td>313835.8023</td>\n",
       "      <td>314187.4036</td>\n",
       "      <td>309680.5549</td>\n",
       "      <td>308760.1446</td>\n",
       "    </tr>\n",
       "    <tr>\n",
       "      <th>3</th>\n",
       "      <td>Barnet</td>\n",
       "      <td>E09000003</td>\n",
       "      <td>93284.51832</td>\n",
       "      <td>93190.16963</td>\n",
       "      <td>92247.52435</td>\n",
       "      <td>90762.87492</td>\n",
       "      <td>90258.00033</td>\n",
       "      <td>90107.23471</td>\n",
       "      <td>91441.24768</td>\n",
       "      <td>92361.31512</td>\n",
       "      <td>...</td>\n",
       "      <td>529660.1524</td>\n",
       "      <td>533619.23</td>\n",
       "      <td>530353.5205</td>\n",
       "      <td>528816.4928</td>\n",
       "      <td>532528.0926</td>\n",
       "      <td>538842.4015</td>\n",
       "      <td>538215.8867</td>\n",
       "      <td>542872.3895</td>\n",
       "      <td>545746.3543</td>\n",
       "      <td>546082.2634</td>\n",
       "    </tr>\n",
       "    <tr>\n",
       "      <th>4</th>\n",
       "      <td>Bexley</td>\n",
       "      <td>E09000004</td>\n",
       "      <td>64958.09036</td>\n",
       "      <td>64787.92069</td>\n",
       "      <td>64367.49344</td>\n",
       "      <td>64277.66881</td>\n",
       "      <td>63997.13588</td>\n",
       "      <td>64252.32335</td>\n",
       "      <td>63722.70055</td>\n",
       "      <td>64432.60005</td>\n",
       "      <td>...</td>\n",
       "      <td>346679.9244</td>\n",
       "      <td>345061.4945</td>\n",
       "      <td>345404.9836</td>\n",
       "      <td>346252.9145</td>\n",
       "      <td>352260.8385</td>\n",
       "      <td>356664.073</td>\n",
       "      <td>360116.1134</td>\n",
       "      <td>364480.9055</td>\n",
       "      <td>365519.4195</td>\n",
       "      <td>368554.8059</td>\n",
       "    </tr>\n",
       "  </tbody>\n",
       "</table>\n",
       "<p>5 rows × 319 columns</p>\n",
       "</div>"
      ],
      "text/plain": [
       "           Unnamed: 0        NaN  1995-01-01 00:00:00  1995-02-01 00:00:00  \\\n",
       "0          Unnamed: 0        NaT  1995-01-01 00:00:00  1995-02-01 00:00:00   \n",
       "1      City of London  E09000001          91448.98487          82202.77314   \n",
       "2  Barking & Dagenham  E09000002           50460.2266          51085.77983   \n",
       "3              Barnet  E09000003          93284.51832          93190.16963   \n",
       "4              Bexley  E09000004          64958.09036          64787.92069   \n",
       "\n",
       "   1995-03-01 00:00:00  1995-04-01 00:00:00  1995-05-01 00:00:00  \\\n",
       "0  1995-03-01 00:00:00  1995-04-01 00:00:00  1995-05-01 00:00:00   \n",
       "1          79120.70256          77101.20804          84409.14932   \n",
       "2          51268.96956          53133.50526          53042.24852   \n",
       "3          92247.52435          90762.87492          90258.00033   \n",
       "4          64367.49344          64277.66881          63997.13588   \n",
       "\n",
       "   1995-06-01 00:00:00  1995-07-01 00:00:00  1995-08-01 00:00:00  ...  \\\n",
       "0  1995-06-01 00:00:00  1995-07-01 00:00:00  1995-08-01 00:00:00  ...   \n",
       "1          94900.51244          110128.0423          112329.4376  ...   \n",
       "2          53700.34831          52113.12157          52232.19868  ...   \n",
       "3          90107.23471          91441.24768          92361.31512  ...   \n",
       "4          64252.32335          63722.70055          64432.60005  ...   \n",
       "\n",
       "   2020-08-01 00:00:00  2020-09-01 00:00:00  2020-10-01 00:00:00  \\\n",
       "0  2020-08-01 00:00:00  2020-09-01 00:00:00  2020-10-01 00:00:00   \n",
       "1          827658.5167          798499.1646          836807.0518   \n",
       "2          304923.5027          301702.4656          304852.1338   \n",
       "3          529660.1524            533619.23          530353.5205   \n",
       "4          346679.9244          345061.4945          345404.9836   \n",
       "\n",
       "   2020-11-01 00:00:00  2020-12-01 00:00:00  2021-01-01 00:00:00  \\\n",
       "0  2020-11-01 00:00:00  2020-12-01 00:00:00  2021-01-01 00:00:00   \n",
       "1          769391.7847          801999.0466          760599.2322   \n",
       "2          305012.3291          309560.1023          311007.1517   \n",
       "3          528816.4928          532528.0926          538842.4015   \n",
       "4          346252.9145          352260.8385           356664.073   \n",
       "\n",
       "   2021-02-01 00:00:00  2021-03-01 00:00:00  2021-04-01 00:00:00  \\\n",
       "0  2021-02-01 00:00:00  2021-03-01 00:00:00  2021-04-01 00:00:00   \n",
       "1          729315.7243          717528.2633          713094.5391   \n",
       "2          313835.8023          314187.4036          309680.5549   \n",
       "3          538215.8867          542872.3895          545746.3543   \n",
       "4          360116.1134          364480.9055          365519.4195   \n",
       "\n",
       "   2021-05-01 00:00:00  \n",
       "0  2021-05-01 00:00:00  \n",
       "1          765822.2726  \n",
       "2          308760.1446  \n",
       "3          546082.2634  \n",
       "4          368554.8059  \n",
       "\n",
       "[5 rows x 319 columns]"
      ]
     },
     "execution_count": 560,
     "metadata": {},
     "output_type": "execute_result"
    }
   ],
   "source": [
    "properties.head()"
   ]
  },
  {
   "cell_type": "code",
   "execution_count": 561,
   "metadata": {},
   "outputs": [],
   "source": [
    "properties = properties.drop(0)"
   ]
  },
  {
   "cell_type": "code",
   "execution_count": 562,
   "metadata": {},
   "outputs": [
    {
     "data": {
      "text/html": [
       "<div>\n",
       "<style scoped>\n",
       "    .dataframe tbody tr th:only-of-type {\n",
       "        vertical-align: middle;\n",
       "    }\n",
       "\n",
       "    .dataframe tbody tr th {\n",
       "        vertical-align: top;\n",
       "    }\n",
       "\n",
       "    .dataframe thead th {\n",
       "        text-align: right;\n",
       "    }\n",
       "</style>\n",
       "<table border=\"1\" class=\"dataframe\">\n",
       "  <thead>\n",
       "    <tr style=\"text-align: right;\">\n",
       "      <th></th>\n",
       "      <th>Unnamed: 0</th>\n",
       "      <th>NaN</th>\n",
       "      <th>1995-01-01 00:00:00</th>\n",
       "      <th>1995-02-01 00:00:00</th>\n",
       "      <th>1995-03-01 00:00:00</th>\n",
       "      <th>1995-04-01 00:00:00</th>\n",
       "      <th>1995-05-01 00:00:00</th>\n",
       "      <th>1995-06-01 00:00:00</th>\n",
       "      <th>1995-07-01 00:00:00</th>\n",
       "      <th>1995-08-01 00:00:00</th>\n",
       "      <th>...</th>\n",
       "      <th>2020-08-01 00:00:00</th>\n",
       "      <th>2020-09-01 00:00:00</th>\n",
       "      <th>2020-10-01 00:00:00</th>\n",
       "      <th>2020-11-01 00:00:00</th>\n",
       "      <th>2020-12-01 00:00:00</th>\n",
       "      <th>2021-01-01 00:00:00</th>\n",
       "      <th>2021-02-01 00:00:00</th>\n",
       "      <th>2021-03-01 00:00:00</th>\n",
       "      <th>2021-04-01 00:00:00</th>\n",
       "      <th>2021-05-01 00:00:00</th>\n",
       "    </tr>\n",
       "  </thead>\n",
       "  <tbody>\n",
       "    <tr>\n",
       "      <th>1</th>\n",
       "      <td>City of London</td>\n",
       "      <td>E09000001</td>\n",
       "      <td>91448.98487</td>\n",
       "      <td>82202.77314</td>\n",
       "      <td>79120.70256</td>\n",
       "      <td>77101.20804</td>\n",
       "      <td>84409.14932</td>\n",
       "      <td>94900.51244</td>\n",
       "      <td>110128.0423</td>\n",
       "      <td>112329.4376</td>\n",
       "      <td>...</td>\n",
       "      <td>827658.5167</td>\n",
       "      <td>798499.1646</td>\n",
       "      <td>836807.0518</td>\n",
       "      <td>769391.7847</td>\n",
       "      <td>801999.0466</td>\n",
       "      <td>760599.2322</td>\n",
       "      <td>729315.7243</td>\n",
       "      <td>717528.2633</td>\n",
       "      <td>713094.5391</td>\n",
       "      <td>765822.2726</td>\n",
       "    </tr>\n",
       "    <tr>\n",
       "      <th>2</th>\n",
       "      <td>Barking &amp; Dagenham</td>\n",
       "      <td>E09000002</td>\n",
       "      <td>50460.2266</td>\n",
       "      <td>51085.77983</td>\n",
       "      <td>51268.96956</td>\n",
       "      <td>53133.50526</td>\n",
       "      <td>53042.24852</td>\n",
       "      <td>53700.34831</td>\n",
       "      <td>52113.12157</td>\n",
       "      <td>52232.19868</td>\n",
       "      <td>...</td>\n",
       "      <td>304923.5027</td>\n",
       "      <td>301702.4656</td>\n",
       "      <td>304852.1338</td>\n",
       "      <td>305012.3291</td>\n",
       "      <td>309560.1023</td>\n",
       "      <td>311007.1517</td>\n",
       "      <td>313835.8023</td>\n",
       "      <td>314187.4036</td>\n",
       "      <td>309680.5549</td>\n",
       "      <td>308760.1446</td>\n",
       "    </tr>\n",
       "    <tr>\n",
       "      <th>3</th>\n",
       "      <td>Barnet</td>\n",
       "      <td>E09000003</td>\n",
       "      <td>93284.51832</td>\n",
       "      <td>93190.16963</td>\n",
       "      <td>92247.52435</td>\n",
       "      <td>90762.87492</td>\n",
       "      <td>90258.00033</td>\n",
       "      <td>90107.23471</td>\n",
       "      <td>91441.24768</td>\n",
       "      <td>92361.31512</td>\n",
       "      <td>...</td>\n",
       "      <td>529660.1524</td>\n",
       "      <td>533619.23</td>\n",
       "      <td>530353.5205</td>\n",
       "      <td>528816.4928</td>\n",
       "      <td>532528.0926</td>\n",
       "      <td>538842.4015</td>\n",
       "      <td>538215.8867</td>\n",
       "      <td>542872.3895</td>\n",
       "      <td>545746.3543</td>\n",
       "      <td>546082.2634</td>\n",
       "    </tr>\n",
       "    <tr>\n",
       "      <th>4</th>\n",
       "      <td>Bexley</td>\n",
       "      <td>E09000004</td>\n",
       "      <td>64958.09036</td>\n",
       "      <td>64787.92069</td>\n",
       "      <td>64367.49344</td>\n",
       "      <td>64277.66881</td>\n",
       "      <td>63997.13588</td>\n",
       "      <td>64252.32335</td>\n",
       "      <td>63722.70055</td>\n",
       "      <td>64432.60005</td>\n",
       "      <td>...</td>\n",
       "      <td>346679.9244</td>\n",
       "      <td>345061.4945</td>\n",
       "      <td>345404.9836</td>\n",
       "      <td>346252.9145</td>\n",
       "      <td>352260.8385</td>\n",
       "      <td>356664.073</td>\n",
       "      <td>360116.1134</td>\n",
       "      <td>364480.9055</td>\n",
       "      <td>365519.4195</td>\n",
       "      <td>368554.8059</td>\n",
       "    </tr>\n",
       "    <tr>\n",
       "      <th>5</th>\n",
       "      <td>Brent</td>\n",
       "      <td>E09000005</td>\n",
       "      <td>71306.56698</td>\n",
       "      <td>72022.26197</td>\n",
       "      <td>72015.76274</td>\n",
       "      <td>72965.63094</td>\n",
       "      <td>73704.04743</td>\n",
       "      <td>74310.48167</td>\n",
       "      <td>74127.03788</td>\n",
       "      <td>73547.0411</td>\n",
       "      <td>...</td>\n",
       "      <td>497729.0327</td>\n",
       "      <td>519561.8277</td>\n",
       "      <td>522239.3216</td>\n",
       "      <td>513100.814</td>\n",
       "      <td>495066.6459</td>\n",
       "      <td>511347.8856</td>\n",
       "      <td>514388.7387</td>\n",
       "      <td>519212.9441</td>\n",
       "      <td>498083.9417</td>\n",
       "      <td>508570.7598</td>\n",
       "    </tr>\n",
       "  </tbody>\n",
       "</table>\n",
       "<p>5 rows × 319 columns</p>\n",
       "</div>"
      ],
      "text/plain": [
       "           Unnamed: 0        NaN 1995-01-01 00:00:00 1995-02-01 00:00:00  \\\n",
       "1      City of London  E09000001         91448.98487         82202.77314   \n",
       "2  Barking & Dagenham  E09000002          50460.2266         51085.77983   \n",
       "3              Barnet  E09000003         93284.51832         93190.16963   \n",
       "4              Bexley  E09000004         64958.09036         64787.92069   \n",
       "5               Brent  E09000005         71306.56698         72022.26197   \n",
       "\n",
       "  1995-03-01 00:00:00 1995-04-01 00:00:00 1995-05-01 00:00:00  \\\n",
       "1         79120.70256         77101.20804         84409.14932   \n",
       "2         51268.96956         53133.50526         53042.24852   \n",
       "3         92247.52435         90762.87492         90258.00033   \n",
       "4         64367.49344         64277.66881         63997.13588   \n",
       "5         72015.76274         72965.63094         73704.04743   \n",
       "\n",
       "  1995-06-01 00:00:00 1995-07-01 00:00:00 1995-08-01 00:00:00  ...  \\\n",
       "1         94900.51244         110128.0423         112329.4376  ...   \n",
       "2         53700.34831         52113.12157         52232.19868  ...   \n",
       "3         90107.23471         91441.24768         92361.31512  ...   \n",
       "4         64252.32335         63722.70055         64432.60005  ...   \n",
       "5         74310.48167         74127.03788          73547.0411  ...   \n",
       "\n",
       "  2020-08-01 00:00:00 2020-09-01 00:00:00 2020-10-01 00:00:00  \\\n",
       "1         827658.5167         798499.1646         836807.0518   \n",
       "2         304923.5027         301702.4656         304852.1338   \n",
       "3         529660.1524           533619.23         530353.5205   \n",
       "4         346679.9244         345061.4945         345404.9836   \n",
       "5         497729.0327         519561.8277         522239.3216   \n",
       "\n",
       "  2020-11-01 00:00:00 2020-12-01 00:00:00 2021-01-01 00:00:00  \\\n",
       "1         769391.7847         801999.0466         760599.2322   \n",
       "2         305012.3291         309560.1023         311007.1517   \n",
       "3         528816.4928         532528.0926         538842.4015   \n",
       "4         346252.9145         352260.8385          356664.073   \n",
       "5          513100.814         495066.6459         511347.8856   \n",
       "\n",
       "  2021-02-01 00:00:00 2021-03-01 00:00:00 2021-04-01 00:00:00  \\\n",
       "1         729315.7243         717528.2633         713094.5391   \n",
       "2         313835.8023         314187.4036         309680.5549   \n",
       "3         538215.8867         542872.3895         545746.3543   \n",
       "4         360116.1134         364480.9055         365519.4195   \n",
       "5         514388.7387         519212.9441         498083.9417   \n",
       "\n",
       "  2021-05-01 00:00:00  \n",
       "1         765822.2726  \n",
       "2         308760.1446  \n",
       "3         546082.2634  \n",
       "4         368554.8059  \n",
       "5         508570.7598  \n",
       "\n",
       "[5 rows x 319 columns]"
      ]
     },
     "execution_count": 562,
     "metadata": {},
     "output_type": "execute_result"
    }
   ],
   "source": [
    "properties.head()"
   ]
  },
  {
   "cell_type": "markdown",
   "metadata": {
    "colab_type": "text",
    "id": "o1uLbJAsoIjK"
   },
   "source": [
    "**2.3. Cleaning the data (part 2)**\n",
    "\n",
    "You might we have to **rename** a couple columns. How do you do this? The clue's pretty bold..."
   ]
  },
  {
   "cell_type": "code",
   "execution_count": 563,
   "metadata": {
    "colab": {},
    "colab_type": "code",
    "id": "GKkmn1AnoVZS"
   },
   "outputs": [],
   "source": [
    "properties = properties.rename(columns= {\"Unnamed: 0\" : \"Borough_London\", pd.NaT : \"Borough_ID\"})"
   ]
  },
  {
   "cell_type": "code",
   "execution_count": 564,
   "metadata": {},
   "outputs": [],
   "source": [
    "clean_properties = properties.melt(id_vars=[\"Borough_London\", \"Borough_ID\"], var_name = \"Date\", value_name = \"Average_Pricing\")"
   ]
  },
  {
   "cell_type": "code",
   "execution_count": 565,
   "metadata": {},
   "outputs": [
    {
     "data": {
      "text/plain": [
       "Borough_London             object\n",
       "Borough_ID                 object\n",
       "Date               datetime64[ns]\n",
       "Average_Pricing            object\n",
       "dtype: object"
      ]
     },
     "execution_count": 565,
     "metadata": {},
     "output_type": "execute_result"
    }
   ],
   "source": [
    "clean_properties.dtypes"
   ]
  },
  {
   "cell_type": "code",
   "execution_count": 566,
   "metadata": {},
   "outputs": [],
   "source": [
    "clean_properties[\"Average_Pricing\"] = pd.to_numeric(clean_properties[\"Average_Pricing\"])"
   ]
  },
  {
   "cell_type": "code",
   "execution_count": 567,
   "metadata": {},
   "outputs": [
    {
     "data": {
      "text/plain": [
       "Borough_London             object\n",
       "Borough_ID                 object\n",
       "Date               datetime64[ns]\n",
       "Average_Pricing           float64\n",
       "dtype: object"
      ]
     },
     "execution_count": 567,
     "metadata": {},
     "output_type": "execute_result"
    }
   ],
   "source": [
    "clean_properties.dtypes"
   ]
  },
  {
   "cell_type": "code",
   "execution_count": 568,
   "metadata": {},
   "outputs": [],
   "source": [
    "clean_properties = clean_properties.dropna().reset_index(drop=True)"
   ]
  },
  {
   "cell_type": "code",
   "execution_count": 569,
   "metadata": {},
   "outputs": [
    {
     "name": "stdout",
     "output_type": "stream",
     "text": [
      "(14265, 4)\n"
     ]
    }
   ],
   "source": [
    "print(clean_properties.shape)"
   ]
  },
  {
   "cell_type": "markdown",
   "metadata": {
    "colab_type": "text",
    "id": "jy8BzXHmoWEw"
   },
   "source": [
    "**2.4.Transforming the data**\n",
    "\n",
    "Remember what Wes McKinney said about tidy data? \n",
    "\n",
    "You might need to **melt** your DataFrame here. "
   ]
  },
  {
   "cell_type": "code",
   "execution_count": 570,
   "metadata": {
    "colab": {},
    "colab_type": "code",
    "id": "S2wM0qLuo2Zt"
   },
   "outputs": [],
   "source": [
    "notBorough = [\"E12000001\", \"E13000001\", \"E13000002\", \"E12000002\", \"E12000003\", \"E12000004\", \"E12000005\", \"E12000006\", \"E12000007\", \"E12000008\", \"E12000009\", \"E92000001\"]"
   ]
  },
  {
   "cell_type": "code",
   "execution_count": 571,
   "metadata": {},
   "outputs": [],
   "source": [
    "all_borough = clean_properties[~clean_properties[\"Borough_ID\"].isin(notBorough)]"
   ]
  },
  {
   "cell_type": "code",
   "execution_count": 573,
   "metadata": {},
   "outputs": [
    {
     "name": "stdout",
     "output_type": "stream",
     "text": [
      "10461\n"
     ]
    }
   ],
   "source": [
    "print(len(all_borough))"
   ]
  },
  {
   "cell_type": "code",
   "execution_count": 574,
   "metadata": {},
   "outputs": [],
   "source": [
    "df = all_borough"
   ]
  },
  {
   "cell_type": "markdown",
   "metadata": {
    "colab_type": "text",
    "id": "7kIsgAo7o3mf"
   },
   "source": [
    "Remember to make sure your column data types are all correct. Average prices, for example, should be floating point numbers... "
   ]
  },
  {
   "cell_type": "code",
   "execution_count": 577,
   "metadata": {
    "colab": {},
    "colab_type": "code",
    "id": "ZcR4IHbcpOaq"
   },
   "outputs": [
    {
     "data": {
      "text/html": [
       "<div>\n",
       "<style scoped>\n",
       "    .dataframe tbody tr th:only-of-type {\n",
       "        vertical-align: middle;\n",
       "    }\n",
       "\n",
       "    .dataframe tbody tr th {\n",
       "        vertical-align: top;\n",
       "    }\n",
       "\n",
       "    .dataframe thead th {\n",
       "        text-align: right;\n",
       "    }\n",
       "</style>\n",
       "<table border=\"1\" class=\"dataframe\">\n",
       "  <thead>\n",
       "    <tr style=\"text-align: right;\">\n",
       "      <th></th>\n",
       "      <th>Borough_London</th>\n",
       "      <th>Borough_ID</th>\n",
       "      <th>Date</th>\n",
       "      <th>Average_Pricing</th>\n",
       "    </tr>\n",
       "  </thead>\n",
       "  <tbody>\n",
       "    <tr>\n",
       "      <th>0</th>\n",
       "      <td>City of London</td>\n",
       "      <td>E09000001</td>\n",
       "      <td>1995-01-01</td>\n",
       "      <td>91448.98487</td>\n",
       "    </tr>\n",
       "    <tr>\n",
       "      <th>1</th>\n",
       "      <td>Barking &amp; Dagenham</td>\n",
       "      <td>E09000002</td>\n",
       "      <td>1995-01-01</td>\n",
       "      <td>50460.22660</td>\n",
       "    </tr>\n",
       "    <tr>\n",
       "      <th>2</th>\n",
       "      <td>Barnet</td>\n",
       "      <td>E09000003</td>\n",
       "      <td>1995-01-01</td>\n",
       "      <td>93284.51832</td>\n",
       "    </tr>\n",
       "    <tr>\n",
       "      <th>3</th>\n",
       "      <td>Bexley</td>\n",
       "      <td>E09000004</td>\n",
       "      <td>1995-01-01</td>\n",
       "      <td>64958.09036</td>\n",
       "    </tr>\n",
       "    <tr>\n",
       "      <th>4</th>\n",
       "      <td>Brent</td>\n",
       "      <td>E09000005</td>\n",
       "      <td>1995-01-01</td>\n",
       "      <td>71306.56698</td>\n",
       "    </tr>\n",
       "  </tbody>\n",
       "</table>\n",
       "</div>"
      ],
      "text/plain": [
       "       Borough_London Borough_ID       Date  Average_Pricing\n",
       "0      City of London  E09000001 1995-01-01      91448.98487\n",
       "1  Barking & Dagenham  E09000002 1995-01-01      50460.22660\n",
       "2              Barnet  E09000003 1995-01-01      93284.51832\n",
       "3              Bexley  E09000004 1995-01-01      64958.09036\n",
       "4               Brent  E09000005 1995-01-01      71306.56698"
      ]
     },
     "execution_count": 577,
     "metadata": {},
     "output_type": "execute_result"
    }
   ],
   "source": [
    "df.head()"
   ]
  },
  {
   "cell_type": "code",
   "execution_count": 586,
   "metadata": {},
   "outputs": [],
   "source": [
    "df = df.reset_index()"
   ]
  },
  {
   "cell_type": "code",
   "execution_count": 587,
   "metadata": {},
   "outputs": [
    {
     "data": {
      "text/plain": [
       "Text(0, 0.5, 'Price')"
      ]
     },
     "execution_count": 587,
     "metadata": {},
     "output_type": "execute_result"
    },
    {
     "data": {
      "image/png": "[encoded data removed]",
      "text/plain": [
       "<Figure size 540x252 with 1 Axes>"
      ]
     },
     "metadata": {
      "needs_background": "light"
     },
     "output_type": "display_data"
    }
   ],
   "source": [
    "\n",
    "camden_prices = df[df['Borough_London'] == 'Westminster']\n",
    "ax = camden_prices.plot(kind ='line', x = 'Date', y='Average_Pricing')\n",
    "\n",
    "ax.set_ylabel('Price')"
   ]
  },
  {
   "cell_type": "code",
   "execution_count": 588,
   "metadata": {},
   "outputs": [],
   "source": [
    "df[\"Year\"] = df[\"Date\"].dt.strftime(\"%Y\")"
   ]
  },
  {
   "cell_type": "code",
   "execution_count": 589,
   "metadata": {},
   "outputs": [
    {
     "data": {
      "text/html": [
       "<div>\n",
       "<style scoped>\n",
       "    .dataframe tbody tr th:only-of-type {\n",
       "        vertical-align: middle;\n",
       "    }\n",
       "\n",
       "    .dataframe tbody tr th {\n",
       "        vertical-align: top;\n",
       "    }\n",
       "\n",
       "    .dataframe thead th {\n",
       "        text-align: right;\n",
       "    }\n",
       "</style>\n",
       "<table border=\"1\" class=\"dataframe\">\n",
       "  <thead>\n",
       "    <tr style=\"text-align: right;\">\n",
       "      <th></th>\n",
       "      <th>index</th>\n",
       "      <th>Borough_London</th>\n",
       "      <th>Borough_ID</th>\n",
       "      <th>Date</th>\n",
       "      <th>Average_Pricing</th>\n",
       "      <th>Year</th>\n",
       "    </tr>\n",
       "  </thead>\n",
       "  <tbody>\n",
       "    <tr>\n",
       "      <th>0</th>\n",
       "      <td>0</td>\n",
       "      <td>City of London</td>\n",
       "      <td>E09000001</td>\n",
       "      <td>1995-01-01</td>\n",
       "      <td>91448.98487</td>\n",
       "      <td>1995</td>\n",
       "    </tr>\n",
       "    <tr>\n",
       "      <th>1</th>\n",
       "      <td>1</td>\n",
       "      <td>Barking &amp; Dagenham</td>\n",
       "      <td>E09000002</td>\n",
       "      <td>1995-01-01</td>\n",
       "      <td>50460.22660</td>\n",
       "      <td>1995</td>\n",
       "    </tr>\n",
       "    <tr>\n",
       "      <th>2</th>\n",
       "      <td>2</td>\n",
       "      <td>Barnet</td>\n",
       "      <td>E09000003</td>\n",
       "      <td>1995-01-01</td>\n",
       "      <td>93284.51832</td>\n",
       "      <td>1995</td>\n",
       "    </tr>\n",
       "    <tr>\n",
       "      <th>3</th>\n",
       "      <td>3</td>\n",
       "      <td>Bexley</td>\n",
       "      <td>E09000004</td>\n",
       "      <td>1995-01-01</td>\n",
       "      <td>64958.09036</td>\n",
       "      <td>1995</td>\n",
       "    </tr>\n",
       "    <tr>\n",
       "      <th>4</th>\n",
       "      <td>4</td>\n",
       "      <td>Brent</td>\n",
       "      <td>E09000005</td>\n",
       "      <td>1995-01-01</td>\n",
       "      <td>71306.56698</td>\n",
       "      <td>1995</td>\n",
       "    </tr>\n",
       "  </tbody>\n",
       "</table>\n",
       "</div>"
      ],
      "text/plain": [
       "   index      Borough_London Borough_ID       Date  Average_Pricing  Year\n",
       "0      0      City of London  E09000001 1995-01-01      91448.98487  1995\n",
       "1      1  Barking & Dagenham  E09000002 1995-01-01      50460.22660  1995\n",
       "2      2              Barnet  E09000003 1995-01-01      93284.51832  1995\n",
       "3      3              Bexley  E09000004 1995-01-01      64958.09036  1995\n",
       "4      4               Brent  E09000005 1995-01-01      71306.56698  1995"
      ]
     },
     "execution_count": 589,
     "metadata": {},
     "output_type": "execute_result"
    }
   ],
   "source": [
    "df.head()"
   ]
  },
  {
   "cell_type": "markdown",
   "metadata": {
    "colab_type": "text",
    "id": "knLUXHLypOtw"
   },
   "source": [
    "**2.5. Cleaning the data (part 3)**\n",
    "\n",
    "Do we have an equal number of observations in the ID, Average Price, Month, and London Borough columns? Remember that there are only 32 London Boroughs. How many entries do you have in that column? \n",
    "\n",
    "Check out the contents of the London Borough column, and if you find null values, get rid of them however you see fit. "
   ]
  },
  {
   "cell_type": "code",
   "execution_count": 593,
   "metadata": {
    "colab": {},
    "colab_type": "code",
    "id": "BnvTW5a3p0fC"
   },
   "outputs": [],
   "source": [
    "df_grp = df.groupby(by=[\"Borough_London\", \"Year\"]).mean()"
   ]
  },
  {
   "cell_type": "code",
   "execution_count": 598,
   "metadata": {},
   "outputs": [],
   "source": [
    "df_grp = df_grp.reset_index()"
   ]
  },
  {
   "cell_type": "code",
   "execution_count": 599,
   "metadata": {},
   "outputs": [
    {
     "data": {
      "text/html": [
       "<div>\n",
       "<style scoped>\n",
       "    .dataframe tbody tr th:only-of-type {\n",
       "        vertical-align: middle;\n",
       "    }\n",
       "\n",
       "    .dataframe tbody tr th {\n",
       "        vertical-align: top;\n",
       "    }\n",
       "\n",
       "    .dataframe thead th {\n",
       "        text-align: right;\n",
       "    }\n",
       "</style>\n",
       "<table border=\"1\" class=\"dataframe\">\n",
       "  <thead>\n",
       "    <tr style=\"text-align: right;\">\n",
       "      <th></th>\n",
       "      <th>Borough_London</th>\n",
       "      <th>Year</th>\n",
       "      <th>index</th>\n",
       "      <th>Average_Pricing</th>\n",
       "    </tr>\n",
       "  </thead>\n",
       "  <tbody>\n",
       "    <tr>\n",
       "      <th>0</th>\n",
       "      <td>Barking &amp; Dagenham</td>\n",
       "      <td>1995</td>\n",
       "      <td>248.5</td>\n",
       "      <td>51817.969390</td>\n",
       "    </tr>\n",
       "    <tr>\n",
       "      <th>1</th>\n",
       "      <td>Barking &amp; Dagenham</td>\n",
       "      <td>1996</td>\n",
       "      <td>788.5</td>\n",
       "      <td>51718.192690</td>\n",
       "    </tr>\n",
       "    <tr>\n",
       "      <th>2</th>\n",
       "      <td>Barking &amp; Dagenham</td>\n",
       "      <td>1997</td>\n",
       "      <td>1328.5</td>\n",
       "      <td>55974.262309</td>\n",
       "    </tr>\n",
       "    <tr>\n",
       "      <th>3</th>\n",
       "      <td>Barking &amp; Dagenham</td>\n",
       "      <td>1998</td>\n",
       "      <td>1868.5</td>\n",
       "      <td>60285.821083</td>\n",
       "    </tr>\n",
       "    <tr>\n",
       "      <th>4</th>\n",
       "      <td>Barking &amp; Dagenham</td>\n",
       "      <td>1999</td>\n",
       "      <td>2408.5</td>\n",
       "      <td>65320.934441</td>\n",
       "    </tr>\n",
       "  </tbody>\n",
       "</table>\n",
       "</div>"
      ],
      "text/plain": [
       "       Borough_London  Year   index  Average_Pricing\n",
       "0  Barking & Dagenham  1995   248.5     51817.969390\n",
       "1  Barking & Dagenham  1996   788.5     51718.192690\n",
       "2  Barking & Dagenham  1997  1328.5     55974.262309\n",
       "3  Barking & Dagenham  1998  1868.5     60285.821083\n",
       "4  Barking & Dagenham  1999  2408.5     65320.934441"
      ]
     },
     "execution_count": 599,
     "metadata": {},
     "output_type": "execute_result"
    }
   ],
   "source": [
    "df_grp.head()"
   ]
  },
  {
   "cell_type": "markdown",
   "metadata": {
    "colab_type": "text",
    "id": "2knuTxAEqoJ4"
   },
   "source": [
    "**3. Modeling**\n",
    "\n",
    "Consider creating a function that will calculate a ratio of house prices, comparing the price of a house in 2018 to the price in 1998.\n",
    "\n",
    "Consider calling this function create_price_ratio.\n",
    "\n",
    "You'd want this function to:\n",
    "1. Take a filter of dfg, specifically where this filter constrains the London_Borough, as an argument. For example, one admissible argument should be: dfg[dfg['London_Borough']=='Camden'].\n",
    "2. Get the Average Price for that Borough, for the years 1998 and 2018.\n",
    "4. Calculate the ratio of the Average Price for 1998 divided by the Average Price for 2018.\n",
    "5. Return that ratio.\n",
    "\n",
    "Once you've written this function, you ultimately want to use it to iterate through all the unique London_Boroughs and work out the ratio capturing the difference of house prices between 1998 and 2018.\n",
    "\n",
    "Bear in mind: you don't have to write a function like this if you don't want to. If you can solve the brief otherwise, then great! \n",
    "\n",
    "***Hint***: This section should test the skills you acquired in:\n",
    "- Python Data Science Toolbox - Part One, all modules"
   ]
  },
  {
   "cell_type": "code",
   "execution_count": 612,
   "metadata": {},
   "outputs": [],
   "source": [
    "def find_ratio(data,start,end):\n",
    "    return(float(data[\"Average_Pricing\"][data[\"Year\"]== end])/ float(data[\"Average_Pricing\"][data[\"Year\"]== start]))"
   ]
  },
  {
   "cell_type": "code",
   "execution_count": 619,
   "metadata": {},
   "outputs": [],
   "source": [
    "result = {}\n",
    "    "
   ]
  },
  {
   "cell_type": "code",
   "execution_count": 623,
   "metadata": {},
   "outputs": [],
   "source": [
    "for i in df[\"Borough_London\"].unique():\n",
    "    result[i] = find_ratio(df_grp[df_grp[\"Borough_London\"]== i], \"1995\", \"2021\")"
   ]
  },
  {
   "cell_type": "code",
   "execution_count": 624,
   "metadata": {
    "colab": {},
    "colab_type": "code",
    "id": "cKTyr437UgDa"
   },
   "outputs": [
    {
     "name": "stdout",
     "output_type": "stream",
     "text": [
      "{'City of London': 7.440802801776783, 'Barking & Dagenham': 6.011316442672359, 'Barnet': 5.908452628611783, 'Bexley': 5.6471987428782535, 'Brent': 6.987840054454101, 'Bromley': 5.6849307774795035, 'Camden': 6.724510978825046, 'Croydon': 5.612357109181857, 'Ealing': 6.195216666431797, 'Enfield': 5.850722911179181, 'Greenwich': 6.409864428521052, 'Hackney': 8.872899175212991, 'Hammersmith & Fulham': 6.020559278602174, 'Haringey': 7.1671978289725295, 'Harrow': 5.754299246566478, 'Havering': 5.646401494431965, 'Hillingdon': 5.811593230927903, 'Hounslow': 5.91760176783052, 'Islington': 7.052794765456155, 'Kensington & Chelsea': 6.467827148968669, 'Kingston upon Thames': 6.112629315167556, 'Lambeth': 7.887900426544655, 'Lewisham': 7.5689216618684, 'Merton': 6.848265197395277, 'Newham': 7.113604999528346, 'Redbridge': 6.210149728436503, 'Richmond upon Thames': 6.365474323399244, 'Southwark': 8.245996433223182, 'Sutton': 5.634025794479691, 'Tower Hamlets': 7.492485092011629, 'Waltham Forest': 7.871090317474999, 'Wandsworth': 6.830662303332571, 'Westminster': 7.219816079424585}\n"
     ]
    }
   ],
   "source": [
    "print(result)"
   ]
  },
  {
   "cell_type": "code",
   "execution_count": 633,
   "metadata": {},
   "outputs": [],
   "source": [
    "df_ratio = pd.DataFrame(result ,index=[0]).transpose().reset_index()"
   ]
  },
  {
   "cell_type": "code",
   "execution_count": 634,
   "metadata": {},
   "outputs": [
    {
     "data": {
      "text/html": [
       "<div>\n",
       "<style scoped>\n",
       "    .dataframe tbody tr th:only-of-type {\n",
       "        vertical-align: middle;\n",
       "    }\n",
       "\n",
       "    .dataframe tbody tr th {\n",
       "        vertical-align: top;\n",
       "    }\n",
       "\n",
       "    .dataframe thead th {\n",
       "        text-align: right;\n",
       "    }\n",
       "</style>\n",
       "<table border=\"1\" class=\"dataframe\">\n",
       "  <thead>\n",
       "    <tr style=\"text-align: right;\">\n",
       "      <th></th>\n",
       "      <th>index</th>\n",
       "      <th>0</th>\n",
       "    </tr>\n",
       "  </thead>\n",
       "  <tbody>\n",
       "    <tr>\n",
       "      <th>0</th>\n",
       "      <td>City of London</td>\n",
       "      <td>7.440803</td>\n",
       "    </tr>\n",
       "    <tr>\n",
       "      <th>1</th>\n",
       "      <td>Barking &amp; Dagenham</td>\n",
       "      <td>6.011316</td>\n",
       "    </tr>\n",
       "    <tr>\n",
       "      <th>2</th>\n",
       "      <td>Barnet</td>\n",
       "      <td>5.908453</td>\n",
       "    </tr>\n",
       "    <tr>\n",
       "      <th>3</th>\n",
       "      <td>Bexley</td>\n",
       "      <td>5.647199</td>\n",
       "    </tr>\n",
       "    <tr>\n",
       "      <th>4</th>\n",
       "      <td>Brent</td>\n",
       "      <td>6.987840</td>\n",
       "    </tr>\n",
       "  </tbody>\n",
       "</table>\n",
       "</div>"
      ],
      "text/plain": [
       "                index         0\n",
       "0      City of London  7.440803\n",
       "1  Barking & Dagenham  6.011316\n",
       "2              Barnet  5.908453\n",
       "3              Bexley  5.647199\n",
       "4               Brent  6.987840"
      ]
     },
     "execution_count": 634,
     "metadata": {},
     "output_type": "execute_result"
    }
   ],
   "source": [
    "df_ratio.head()"
   ]
  },
  {
   "cell_type": "code",
   "execution_count": 637,
   "metadata": {},
   "outputs": [],
   "source": [
    "df_ratio = df_ratio.rename(columns={\"index\":\"Boroughs\" , 0:\"Ratio\"})"
   ]
  },
  {
   "cell_type": "code",
   "execution_count": 642,
   "metadata": {},
   "outputs": [],
   "source": [
    "top10_ratio = df_ratio.sort_values(by = \"Ratio\" , ascending = False).head(10)"
   ]
  },
  {
   "cell_type": "code",
   "execution_count": 645,
   "metadata": {},
   "outputs": [
    {
     "data": {
      "text/html": [
       "<div>\n",
       "<style scoped>\n",
       "    .dataframe tbody tr th:only-of-type {\n",
       "        vertical-align: middle;\n",
       "    }\n",
       "\n",
       "    .dataframe tbody tr th {\n",
       "        vertical-align: top;\n",
       "    }\n",
       "\n",
       "    .dataframe thead th {\n",
       "        text-align: right;\n",
       "    }\n",
       "</style>\n",
       "<table border=\"1\" class=\"dataframe\">\n",
       "  <thead>\n",
       "    <tr style=\"text-align: right;\">\n",
       "      <th></th>\n",
       "      <th>Boroughs</th>\n",
       "      <th>Ratio</th>\n",
       "    </tr>\n",
       "  </thead>\n",
       "  <tbody>\n",
       "    <tr>\n",
       "      <th>11</th>\n",
       "      <td>Hackney</td>\n",
       "      <td>8.872899</td>\n",
       "    </tr>\n",
       "    <tr>\n",
       "      <th>27</th>\n",
       "      <td>Southwark</td>\n",
       "      <td>8.245996</td>\n",
       "    </tr>\n",
       "    <tr>\n",
       "      <th>21</th>\n",
       "      <td>Lambeth</td>\n",
       "      <td>7.887900</td>\n",
       "    </tr>\n",
       "    <tr>\n",
       "      <th>30</th>\n",
       "      <td>Waltham Forest</td>\n",
       "      <td>7.871090</td>\n",
       "    </tr>\n",
       "    <tr>\n",
       "      <th>22</th>\n",
       "      <td>Lewisham</td>\n",
       "      <td>7.568922</td>\n",
       "    </tr>\n",
       "    <tr>\n",
       "      <th>29</th>\n",
       "      <td>Tower Hamlets</td>\n",
       "      <td>7.492485</td>\n",
       "    </tr>\n",
       "    <tr>\n",
       "      <th>0</th>\n",
       "      <td>City of London</td>\n",
       "      <td>7.440803</td>\n",
       "    </tr>\n",
       "    <tr>\n",
       "      <th>32</th>\n",
       "      <td>Westminster</td>\n",
       "      <td>7.219816</td>\n",
       "    </tr>\n",
       "    <tr>\n",
       "      <th>13</th>\n",
       "      <td>Haringey</td>\n",
       "      <td>7.167198</td>\n",
       "    </tr>\n",
       "    <tr>\n",
       "      <th>24</th>\n",
       "      <td>Newham</td>\n",
       "      <td>7.113605</td>\n",
       "    </tr>\n",
       "  </tbody>\n",
       "</table>\n",
       "</div>"
      ],
      "text/plain": [
       "          Boroughs     Ratio\n",
       "11         Hackney  8.872899\n",
       "27       Southwark  8.245996\n",
       "21         Lambeth  7.887900\n",
       "30  Waltham Forest  7.871090\n",
       "22        Lewisham  7.568922\n",
       "29   Tower Hamlets  7.492485\n",
       "0   City of London  7.440803\n",
       "32     Westminster  7.219816\n",
       "13        Haringey  7.167198\n",
       "24          Newham  7.113605"
      ]
     },
     "execution_count": 645,
     "metadata": {},
     "output_type": "execute_result"
    }
   ],
   "source": [
    "top10_ratio.head(10)"
   ]
  },
  {
   "cell_type": "code",
   "execution_count": 652,
   "metadata": {
    "scrolled": true
   },
   "outputs": [
    {
     "data": {
      "text/plain": [
       "[Text(0, 0, 'Hackney'),\n",
       " Text(1, 0, 'Southwark'),\n",
       " Text(2, 0, 'Lambeth'),\n",
       " Text(3, 0, 'Waltham Forest'),\n",
       " Text(4, 0, 'Lewisham'),\n",
       " Text(5, 0, 'Tower Hamlets'),\n",
       " Text(6, 0, 'City of London'),\n",
       " Text(7, 0, 'Westminster'),\n",
       " Text(8, 0, 'Haringey'),\n",
       " Text(9, 0, 'Newham')]"
      ]
     },
     "execution_count": 652,
     "metadata": {},
     "output_type": "execute_result"
    },
    {
     "data": {
      "image/png": "[encoded data removed]",
      "text/plain": [
       "<Figure size 540x252 with 1 Axes>"
      ]
     },
     "metadata": {
      "needs_background": "light"
     },
     "output_type": "display_data"
    }
   ],
   "source": [
    "ax = sns.barplot(data = top10_ratio, x=\"Boroughs\", y= \"Ratio\")\n",
    "ax.set_xticklabels(top10_ratio.Boroughs, rotation =30)"
   ]
  },
  {
   "cell_type": "markdown",
   "metadata": {
    "colab_type": "text",
    "id": "NzYUI7FxJpgv"
   },
   "source": [
    "### 4. Conclusion\n",
    "Our question was finding out the boroughs of London that have seen the greatest increase in housing prices, on average, over the last two decades. \n",
    "\n",
    "We are looking for two decades, which is 20 years, but I assume that we are looking approximately two decades. So, I have focused on the increase between 1995 and 2021. I have found out ration between 1995 and 2021 for each borough. Ratio, shows that how likely increase happened during over 20 years. I showed the data and showed as bar plot. According to result, Hackney has greatest increase in House Pricing. It is almost increase %900. Southwark placed as second place with approximately 8 ratio."
   ]
  }
 ],
 "metadata": {
  "colab": {
   "collapsed_sections": [],
   "name": "Springboard Data Science Career Track Unit 4 Challenge - Tier 3 Complete .ipynb",
   "provenance": []
  },
  "kernelspec": {
   "display_name": "Python 3",
   "language": "python",
   "name": "python3"
  },
  "language_info": {
   "codemirror_mode": {
    "name": "ipython",
    "version": 3
   },
   "file_extension": ".py",
   "mimetype": "text/x-python",
   "name": "python",
   "nbconvert_exporter": "python",
   "pygments_lexer": "ipython3",
   "version": "3.8.8"
  }
 },
 "nbformat": 4,
 "nbformat_minor": 1
}
